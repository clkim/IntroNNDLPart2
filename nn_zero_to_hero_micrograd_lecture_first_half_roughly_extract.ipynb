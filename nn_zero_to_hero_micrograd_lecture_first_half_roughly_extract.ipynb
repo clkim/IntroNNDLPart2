{
  "nbformat": 4,
  "nbformat_minor": 0,
  "metadata": {
    "colab": {
      "provenance": [],
      "toc_visible": true,
      "collapsed_sections": [
        "PCmidQc6kea0",
        "MZpJYrHsxql2",
        "ECuAqaHr12xS",
        "3skjxi4F0qCN",
        "3YGhxOxOAU0v",
        "sgdw1_3wzgzA",
        "L-MuxnPEDyx9",
        "HqloCd-ba7hv"
      ],
      "authorship_tag": "ABX9TyPTIVFRJTp82zrLRmK8Cclc",
      "include_colab_link": true
    },
    "kernelspec": {
      "name": "python3",
      "display_name": "Python 3"
    },
    "language_info": {
      "name": "python"
    }
  },
  "cells": [
    {
      "cell_type": "markdown",
      "metadata": {
        "id": "view-in-github",
        "colab_type": "text"
      },
      "source": [
        "<a href=\"https://colab.research.google.com/github/clkim/IntroNNDLPart2/blob/main/nn_zero_to_hero_micrograd_lecture_first_half_roughly_extract.ipynb\" target=\"_parent\"><img src=\"https://colab.research.google.com/assets/colab-badge.svg\" alt=\"Open In Colab\"/></a>"
      ]
    },
    {
      "cell_type": "markdown",
      "source": [
        "# Illustrating how the `autograd` automatic differentiation engine works in PyTorch.\n",
        "\n",
        "This Jupyter notebook is extracted from notebook:\n",
        "[micrograd_lecture_first_half_roughly.ipynb](https://github.com/karpathy/nn-zero-to-hero/blob/master/lectures/micrograd/micrograd_lecture_first_half_roughly.ipynb)  \n",
        "by Andrej Karpathy  \n",
        "Neural Networks: Zero to Hero  \n",
        "Lecture 1: The spelled-out intro to neural networks and backpropagation: **building micrograd**"
      ],
      "metadata": {
        "id": "_-6yTMLjjqj0"
      }
    },
    {
      "cell_type": "markdown",
      "source": [
        "# Setup code"
      ],
      "metadata": {
        "id": "PCmidQc6kea0"
      }
    },
    {
      "cell_type": "code",
      "source": [
        "class Value:\n",
        "\n",
        "  def __init__(self, data, _children=(), _op='', label=''):\n",
        "    self.data = data\n",
        "    self.grad = 0.0\n",
        "    self._backward = lambda: None\n",
        "    self._prev = set(_children)\n",
        "    self._op = _op\n",
        "    self.label = label\n",
        "\n",
        "  def __repr__(self):\n",
        "    return f\"Value(data={self.data})\"\n",
        "\n",
        "  def __add__(self, other):\n",
        "    out = Value(self.data + other.data, (self, other), '+')\n",
        "\n",
        "    def _backward():\n",
        "      self.grad += 1.0 * out.grad\n",
        "      other.grad += 1.0 * out.grad\n",
        "    out._backward = _backward\n",
        "\n",
        "    return out\n",
        "\n",
        "  def __mul__(self, other):\n",
        "    out = Value(self.data * other.data, (self, other), '*')\n",
        "\n",
        "    def _backward():\n",
        "      self.grad += other.data * out.grad\n",
        "      other.grad += self.data * out.grad\n",
        "    out._backward = _backward\n",
        "\n",
        "    return out\n",
        "\n",
        "  def tanh(self):\n",
        "    x = self.data\n",
        "    t = (math.exp(2*x) - 1)/(math.exp(2*x) + 1)\n",
        "    out = Value(t, (self, ), 'tanh')\n",
        "\n",
        "    def _backward():\n",
        "      self.grad += (1 - t**2) * out.grad\n",
        "    out._backward = _backward\n",
        "\n",
        "    return out\n",
        "\n",
        "  def backward(self):\n",
        "\n",
        "    topo = []\n",
        "    visited = set()\n",
        "    def build_topo(v):\n",
        "      if v not in visited:\n",
        "        visited.add(v)\n",
        "        for child in v._prev:\n",
        "          build_topo(child)\n",
        "        topo.append(v)\n",
        "    build_topo(self)\n",
        "\n",
        "    self.grad = 1.0\n",
        "    for node in reversed(topo):\n",
        "      node._backward()"
      ],
      "metadata": {
        "id": "wqe5bK1CENnw"
      },
      "execution_count": 2,
      "outputs": []
    },
    {
      "cell_type": "code",
      "source": [
        "from graphviz import Digraph\n",
        "\n",
        "def trace(root):\n",
        "  # builds a set of all nodes and edges in a graph\n",
        "  nodes, edges = set(), set()\n",
        "  def build(v):\n",
        "    if v not in nodes:\n",
        "      nodes.add(v)\n",
        "      for child in v._prev:\n",
        "        edges.add((child, v))\n",
        "        build(child)\n",
        "  build(root)\n",
        "  return nodes, edges\n",
        "\n",
        "def draw_dot(root):\n",
        "  dot = Digraph(format='svg', graph_attr={'rankdir': 'LR'}) # LR = left to right\n",
        "\n",
        "  nodes, edges = trace(root)\n",
        "  for n in nodes:\n",
        "    uid = str(id(n))\n",
        "    # for any value in the graph, create a rectangular ('record') node for it\n",
        "    dot.node(name = uid, label = \"{ %s | data %.4f | grad %.4f }\" % (n.label, n.data, n.grad), shape='record')\n",
        "    if n._op:\n",
        "      # if this value is a result of some operation, create an op node for it\n",
        "      dot.node(name = uid + n._op, label = n._op)\n",
        "      # and connect this node to it\n",
        "      dot.edge(uid + n._op, uid)\n",
        "\n",
        "  for n1, n2 in edges:\n",
        "    # connect n1 to the op node of n2\n",
        "    dot.edge(str(id(n1)), str(id(n2)) + n2._op)\n",
        "\n",
        "  return dot"
      ],
      "metadata": {
        "id": "HDrUSkdPFFLo"
      },
      "execution_count": 3,
      "outputs": []
    },
    {
      "cell_type": "markdown",
      "source": [
        "# Example - one simple function"
      ],
      "metadata": {
        "id": "MZpJYrHsxql2"
      }
    },
    {
      "cell_type": "markdown",
      "source": [
        "b = a + a\n",
        "\n",
        "a = 3.0  \n",
        "b = a + a = 6.0\n",
        "\n",
        "Pretend there is a loss function, *bloss*  \n",
        "bloss = b = a + a\n",
        "\n",
        "$ \\frac{\\partial bloss}{\\partial a}\n",
        "= \\frac{\\partial bloss}{\\partial b} (\\frac{\\partial b}{\\partial a}) $  \n",
        "$ \\phantom{\\frac{\\partial bloss}{\\partial a}}\n",
        "= (\\frac{\\partial b}{\\partial a}) \\frac{\\partial bloss}{\\partial b} $\n",
        "\n",
        "Heuristic:  \n",
        "loss gradient wrt equation input (i.e. here: a)  \n",
        "$ \\phantom{\\frac{\\partial bloss}{\\partial a}} = \\; $\n",
        "local gradient $\\;$ * $\\;$ loss gradient wrt equation output (i.e. here: b)\n",
        "\n",
        "$ \\frac{\\partial bloss}{\\partial a}\n",
        "= \\frac{\\partial b}{\\partial a}  \n",
        "= (1 + 1) \\; \\frac{\\partial bloss}{\\partial b} = (2) * 1 = 2 $"
      ],
      "metadata": {
        "id": "edUEiDXU1TUc"
      }
    },
    {
      "cell_type": "markdown",
      "source": [
        "# Automatic gradient evaluation"
      ],
      "metadata": {
        "id": "ECuAqaHr12xS"
      }
    },
    {
      "cell_type": "code",
      "source": [
        "a = Value(3.0, label='a')\n",
        "b = a + a   ; b.label = 'b'\n",
        "\n",
        "print(\"---- before b.backward() ----\")\n",
        "print(f\"a = {a}\\na.grad = {a.grad}\\n\")\n",
        "print(f\"b = {b}\\nb.grad = {b.grad}\\n\")\n",
        "\n",
        "b.backward()\n",
        "\n",
        "print(\"---- after b.backward() ----\")\n",
        "print(f\"a.grad = {a.grad}\\n\")\n",
        "print(f\"b.grad = {b.grad}\\n\")\n",
        "\n",
        "draw_dot(b)"
      ],
      "metadata": {
        "id": "Tzeelj5NFIAU"
      },
      "execution_count": null,
      "outputs": []
    },
    {
      "cell_type": "markdown",
      "source": [
        "# Example - more simple functions"
      ],
      "metadata": {
        "id": "3skjxi4F0qCN"
      }
    },
    {
      "cell_type": "markdown",
      "source": [
        "$ a = -2.0 $\n",
        "\n",
        "$ b = 3.0 $\n",
        "\n",
        "$ d = a * b = -6 $\n",
        "\n",
        "$ e = a + b = 1 $\n",
        "\n",
        "$ f = d * e = -6 \\enspace $ let's say f is the loss function\n",
        "\n",
        "$ \\frac{∂f}{∂d} = \\frac{∂f}{∂d} \\frac{∂f}{∂f} = e \\; 1 = e = 1 $\n",
        "\n",
        "$ \\frac{∂f}{∂e} = \\frac{∂f}{∂e} \\frac{∂f}{∂f} = d \\; 1 = d = -6 $\n",
        "\n",
        "$ \\frac{∂f}{∂b}\n",
        "= \\frac{∂f}{∂d} \\frac{∂d}{∂b} + \\frac{∂f}{∂e} \\frac{∂e}{∂b}\n",
        "= \\frac{∂d}{∂b} \\frac{∂f}{∂d} + \\frac{∂e}{∂b} \\frac{∂f}{∂e}\n",
        "= (a \\; e) + (1 \\; d) = (-2) + (-6) = -8 $\n",
        "\n",
        "$ \\frac{∂f}{∂a}\n",
        "= \\frac{∂f}{∂d} \\frac{∂d}{∂a} + \\frac{∂f}{∂e} \\frac{∂e}{∂a}\n",
        "= \\frac{∂d}{∂a} \\frac{∂f}{∂d} + \\frac{∂e}{∂a} \\frac{∂f}{∂e}\n",
        "= (b \\; e) + (1 \\; d)  = (3) + (-6) = -3 $"
      ],
      "metadata": {
        "id": "yNQ80G1Y4F9t"
      }
    },
    {
      "cell_type": "markdown",
      "source": [
        "# Automatic gradient evaluation"
      ],
      "metadata": {
        "id": "3YGhxOxOAU0v"
      }
    },
    {
      "cell_type": "code",
      "source": [
        "a = Value(-2.0, label='a')\n",
        "b = Value(3.0, label='b')\n",
        "d = a * b    ; d.label = 'd'\n",
        "e = a + b    ; e.label = 'e'\n",
        "f = d * e    ; f.label = 'f'\n",
        "\n",
        "f.backward()\n",
        "\n",
        "print(f\"a.grad after f.backward() call = {a.grad}\\n\")\n",
        "print(f\"b.grad after f.backward() call = {b.grad}\\n\")\n",
        "print(f\"d.grad after f.backward() call = {d.grad}\\n\")\n",
        "print(f\"e.grad after f.backward() call = {e.grad}\\n\")\n",
        "print(f\"f.grad after f.backward() call = {f.grad}\\n\")\n",
        "\n",
        "draw_dot(f)"
      ],
      "metadata": {
        "id": "_3Qf1SDd06s2"
      },
      "execution_count": null,
      "outputs": []
    },
    {
      "cell_type": "markdown",
      "source": [
        "# backward()"
      ],
      "metadata": {
        "id": "sgdw1_3wzgzA"
      }
    },
    {
      "cell_type": "markdown",
      "source": [
        "b.backward()\n",
        "\n",
        "```\n",
        "  def backward(self):\n",
        "    \n",
        "    topo = []\n",
        "    visited = set()\n",
        "    def build_topo(v):\n",
        "      if v not in visited:\n",
        "        visited.add(v)\n",
        "        for child in v._prev:\n",
        "          build_topo(child)\n",
        "        topo.append(v)\n",
        "    build_topo(self)\n",
        "    \n",
        "    self.grad = 1.0\n",
        "    for node in reversed(topo):\n",
        "      node._backward()\n",
        "```\n",
        "\n",
        "$ self = b $\n",
        "\n",
        "$ self.grad = 1.0 \\; \\rightarrow \\; b.grad = 1.0  \\; \\rightarrow \\; \\frac{∂b}{∂b} = 1.0 $"
      ],
      "metadata": {
        "id": "MRzUNIed-fg7"
      }
    },
    {
      "cell_type": "markdown",
      "source": [
        "# (a + a) expression"
      ],
      "metadata": {
        "id": "L-MuxnPEDyx9"
      }
    },
    {
      "cell_type": "markdown",
      "source": [
        "b = a + a\n",
        "```\n",
        "  def __add__(self, other):\n",
        "    out = Value(self.data + other.data, (self, other), '+')\n",
        "    \n",
        "    def _backward():\n",
        "      self.grad += 1.0 * out.grad\n",
        "      other.grad += 1.0 * out.grad\n",
        "    out._backward = _backward\n",
        "    \n",
        "    return out\n",
        "```\n",
        "$ self = a, \\enspace other = a $\n",
        "\n",
        "$ b = out \\; \\rightarrow \\; b.data = a.data + a.data, \\enspace b.\\_prev = (a, a), $\n",
        "\n",
        "$ \\enspace \\enspace \\enspace \\enspace \\enspace \\enspace \\enspace \\enspace \\enspace \\,\n",
        "b.\\_backward = $\n",
        "```\n",
        "      self.grad += 1.0 * out.grad\n",
        "      other.grad += 1.0 * out.grad\n",
        "```"
      ],
      "metadata": {
        "id": "GZHKxc-fEXJt"
      }
    },
    {
      "cell_type": "markdown",
      "source": [
        "# _backward()"
      ],
      "metadata": {
        "id": "HqloCd-ba7hv"
      }
    },
    {
      "cell_type": "markdown",
      "source": [
        "When b._backward() is called:\n",
        "\n",
        "`self.grad += 1.0 * out.grad`\n",
        "\n",
        "a.grad += 1.0 * b.grad\n",
        "\n",
        "$ \\frac{∂b}{∂a} \\mathrel{+}= 1.0 * \\frac{∂b}{∂b} = 1.0 * 1.0 = 1 $\n",
        "\n",
        "`other.grad += 1.0 * out.grad`\n",
        "\n",
        "a.grad += 1.0 * b.grad\n",
        "\n",
        "$ \\frac{∂b}{∂a} \\mathrel{+}= 1.0 * \\frac{∂b}{∂b} = 1.0 * 1.0 = 1 $\n",
        "\n",
        "So  \n",
        "a.grad = $ \\frac{∂b}{∂a} = 1 + 1 = 2 $\n",
        "\n",
        "SGD step:  \n",
        "$ a_{new} = a_{old} - \\eta \\frac{∂b}{∂a} $"
      ],
      "metadata": {
        "id": "URbtexh6Z9Hn"
      }
    }
  ]
}